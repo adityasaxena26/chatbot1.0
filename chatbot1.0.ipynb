{
 "cells": [
  {
   "cell_type": "code",
   "execution_count": 1,
   "metadata": {},
   "outputs": [
    {
     "name": "stderr",
     "output_type": "stream",
     "text": [
      "[nltk_data] Downloading package punkt to\n",
      "[nltk_data]     C:\\Users\\ADITYA\\AppData\\Roaming\\nltk_data...\n",
      "[nltk_data]   Package punkt is already up-to-date!\n",
      "WARNING: Logging before flag parsing goes to stderr.\n",
      "W0817 13:57:42.146343  8036 deprecation_wrapper.py:119] From c:\\users\\aditya\\appdata\\local\\programs\\python\\python37\\lib\\site-packages\\tflearn\\helpers\\summarizer.py:9: The name tf.summary.merge is deprecated. Please use tf.compat.v1.summary.merge instead.\n",
      "\n",
      "W0817 13:57:42.161944  8036 deprecation_wrapper.py:119] From c:\\users\\aditya\\appdata\\local\\programs\\python\\python37\\lib\\site-packages\\tflearn\\helpers\\trainer.py:25: The name tf.summary.FileWriter is deprecated. Please use tf.compat.v1.summary.FileWriter instead.\n",
      "\n",
      "W0817 13:57:42.193113  8036 deprecation_wrapper.py:119] From c:\\users\\aditya\\appdata\\local\\programs\\python\\python37\\lib\\site-packages\\tflearn\\collections.py:13: The name tf.GraphKeys is deprecated. Please use tf.compat.v1.GraphKeys instead.\n",
      "\n",
      "W0817 13:57:42.224346  8036 deprecation_wrapper.py:119] From c:\\users\\aditya\\appdata\\local\\programs\\python\\python37\\lib\\site-packages\\tflearn\\config.py:123: The name tf.get_collection is deprecated. Please use tf.compat.v1.get_collection instead.\n",
      "\n",
      "W0817 13:57:42.261526  8036 deprecation_wrapper.py:119] From c:\\users\\aditya\\appdata\\local\\programs\\python\\python37\\lib\\site-packages\\tflearn\\config.py:129: The name tf.add_to_collection is deprecated. Please use tf.compat.v1.add_to_collection instead.\n",
      "\n",
      "W0817 13:57:42.265546  8036 deprecation_wrapper.py:119] From c:\\users\\aditya\\appdata\\local\\programs\\python\\python37\\lib\\site-packages\\tflearn\\config.py:131: The name tf.assign is deprecated. Please use tf.compat.v1.assign instead.\n",
      "\n"
     ]
    },
    {
     "name": "stdout",
     "output_type": "stream",
     "text": [
      "curses is not supported on this machine (please install/reinstall curses for an optimal experience)\n"
     ]
    }
   ],
   "source": [
    "# libraries for nlp\n",
    "import nltk\n",
    "nltk.download('punkt')\n",
    "from nltk.stem.lancaster import LancasterStemmer\n",
    "stemmer = LancasterStemmer()\n",
    "\n",
    "# libraries required for Tensorflow processing\n",
    "import tensorflow as tf\n",
    "import tflearn\n",
    "import numpy as np\n",
    "import json\n",
    "import random"
   ]
  },
  {
   "cell_type": "code",
   "execution_count": 2,
   "metadata": {},
   "outputs": [
    {
     "name": "stdout",
     "output_type": "stream",
     "text": [
      "1.14.0\n"
     ]
    }
   ],
   "source": [
    "print(tf.__version__)"
   ]
  },
  {
   "cell_type": "code",
   "execution_count": 8,
   "metadata": {},
   "outputs": [
    {
     "data": {
      "text/plain": [
       "{'intents': [{'tag': 'greeting',\n",
       "   'patterns': ['Hi', 'How are you', 'Hello', 'Is anyone there?', 'Good day'],\n",
       "   'responses': ['Hi there, how can I help?',\n",
       "    'Hello, thanks for visiting',\n",
       "    'Good to see you again'],\n",
       "   'context_set': ''},\n",
       "  {'tag': 'goodbye',\n",
       "   'patterns': ['Goodbye', 'Bye', 'See you later'],\n",
       "   'responses': ['Have a nice day',\n",
       "    'See you later, thanks for visiting',\n",
       "    'Bye! Come back again soon.']},\n",
       "  {'tag': 'thanks',\n",
       "   'patterns': ['Thank you', 'Thanks', \"That's helpful\"],\n",
       "   'responses': ['No problem', 'My pleasure', 'Happy to help!', 'Any time!']},\n",
       "  {'tag': 'hours',\n",
       "   'patterns': ['When are you open?',\n",
       "    'What hours are you open?',\n",
       "    'What are your hours?'],\n",
       "   'responses': ['Our hours are 9am-5pm every day',\n",
       "    \"We're open every day 9am-5pm\"]},\n",
       "  {'tag': 'location',\n",
       "   'patterns': ['Where are you located?',\n",
       "    'What is your address?',\n",
       "    'What is the location of your clinic?'],\n",
       "   'responses': ['Our address is Connaught Place New Delhi',\n",
       "    'We are at Connaught Place New Delhi']},\n",
       "  {'tag': 'payments',\n",
       "   'patterns': ['Are you cash only?',\n",
       "    'Do you take credit cards?',\n",
       "    'Do you accept Mastercard?',\n",
       "    'Do you take payments through mobile wallets'],\n",
       "   'responses': ['We accept VISA, Mastercard and AMEX',\n",
       "    'We accept most major credit cards',\n",
       "    'We also accept mobile wallets payments on GooglePay & Paytm']},\n",
       "  {'tag': 'opentoday',\n",
       "   'patterns': ['Are you open today?',\n",
       "    'When do you open today?',\n",
       "    'What are your hours today?'],\n",
       "   'responses': [\"We're open every day from 9am-5pm\",\n",
       "    'Our hours are 9am-5pm every day']},\n",
       "  {'tag': 'tests',\n",
       "   'patterns': ['What are the tests done?',\n",
       "    'Which tests are available at the clinic?',\n",
       "    'What are services available?'],\n",
       "   'responses': ['We have multiple tests available at our clinic.',\n",
       "    'We provide diagnostics tests like MRI scan CT scan ECG'],\n",
       "   'context_set': 'rentalday'},\n",
       "  {'tag': 'today',\n",
       "   'patterns': ['today'],\n",
       "   'responses': ['For appointment today please call 011-6580244',\n",
       "    'For same-day appointment please call 011-6580244'],\n",
       "   'context_filter': 'appointment'}]}"
      ]
     },
     "execution_count": 8,
     "metadata": {},
     "output_type": "execute_result"
    }
   ],
   "source": [
    "with open('intents.json') as json_data:\n",
    "    intents = json.load(json_data)\n",
    "intents"
   ]
  },
  {
   "cell_type": "code",
   "execution_count": 13,
   "metadata": {},
   "outputs": [],
   "source": [
    "words = []\n",
    "classes = []\n",
    "documents = []\n",
    "ignore_words = ['?']\n",
    "# loop through each sentence present in 'patterns' of 'intents' \n",
    "for intent in intents['intents']:\n",
    "    for pattern in intent['patterns']:\n",
    "        # create tokens for each word in the sentence\n",
    "        w = nltk.word_tokenize(pattern)\n",
    "        # add to the words list\n",
    "        words.extend(w)\n",
    "        # add to the documents list\n",
    "        documents.append((w, intent['tag']))\n",
    "        # add to the classes list\n",
    "        if intent['tag'] not in classes:\n",
    "            classes.append(intent['tag'])"
   ]
  },
  {
   "cell_type": "code",
   "execution_count": 16,
   "metadata": {},
   "outputs": [
    {
     "name": "stdout",
     "output_type": "stream",
     "text": [
      "28 documents\n",
      "9 classes ['goodbye', 'greeting', 'hours', 'location', 'opentoday', 'payments', 'tests', 'thanks', 'today']\n",
      "48 unique stemmed words [\"'s\", 'acceiv', 'address', 'anyon', 'ar', 'at', 'avail', 'bye', 'card', 'cash', 'clin', 'credit', 'day', 'do', 'don', 'good', 'goodby', 'hello', 'help', 'hi', 'hour', 'how', 'is', 'lat', 'loc', 'mastercard', 'mobl', 'of', 'on', 'op', 'pay', 'see', 'serv', 'tak', 'test', 'thank', 'that', 'the', 'ther', 'through', 'today', 'wallet', 'what', 'when', 'wher', 'which', 'yo', 'you']\n"
     ]
    }
   ],
   "source": [
    "# perform stemming on every word and remove duplicate words\n",
    "words = [stemmer.stem(w.lower()) for w in words if w not in ignore_words]\n",
    "words = sorted(list(set(words)))\n",
    "\n",
    "# remove duplicate classes using set\n",
    "classes = sorted(list(set(classes)))\n",
    "\n",
    "print (len(documents), \"documents\")\n",
    "print (len(classes), \"classes\", classes)\n",
    "print (len(words), \"unique stemmed words\", words)"
   ]
  },
  {
   "cell_type": "code",
   "execution_count": 20,
   "metadata": {},
   "outputs": [],
   "source": [
    "# create a list to store the training data\n",
    "training = []\n",
    "output = []\n",
    "# create an empty array for output\n",
    "output_empty = [0] * len(classes)\n",
    "\n",
    "# training set, bag of words for each sentence\n",
    "for doc in documents:\n",
    "    # initialize bag of words\n",
    "    bag = []\n",
    "    # list of tokenized words for the pattern\n",
    "    pattern_words = doc[0]\n",
    "    # stem each word\n",
    "    pattern_words = [stemmer.stem(word.lower()) for word in pattern_words]\n",
    "    # create the bag of words array\n",
    "    for w in words:\n",
    "        bag.append(1) if w in pattern_words else bag.append(0)\n",
    "\n",
    "    # output '1' for current tag and '0' for other tags \n",
    "    output_row = list(output_empty)\n",
    "    output_row[classes.index(doc[1])] = 1\n",
    "\n",
    "    training.append([bag, output_row])\n",
    "\n",
    "# shuffle the features and turn it into a numpy array\n",
    "random.shuffle(training)\n",
    "training = np.array(training)\n",
    "\n",
    "# create train and test data\n",
    "train_x = list(training[:,0])\n",
    "test_x = list(training[:,1])"
   ]
  },
  {
   "cell_type": "code",
   "execution_count": 21,
   "metadata": {},
   "outputs": [],
   "source": [
    "# reset underlying graph data\n",
    "tf.reset_default_graph()"
   ]
  },
  {
   "cell_type": "code",
   "execution_count": 22,
   "metadata": {},
   "outputs": [
    {
     "name": "stderr",
     "output_type": "stream",
     "text": [
      "W0817 16:08:27.622880  8036 deprecation_wrapper.py:119] From c:\\users\\aditya\\appdata\\local\\programs\\python\\python37\\lib\\site-packages\\tflearn\\layers\\core.py:81: The name tf.placeholder is deprecated. Please use tf.compat.v1.placeholder instead.\n",
      "\n",
      "W0817 16:08:28.591504  8036 deprecation.py:506] From c:\\users\\aditya\\appdata\\local\\programs\\python\\python37\\lib\\site-packages\\tflearn\\initializations.py:174: calling TruncatedNormal.__init__ (from tensorflow.python.ops.init_ops) with dtype is deprecated and will be removed in a future version.\n",
      "Instructions for updating:\n",
      "Call initializer instance with the dtype argument instead of passing it to the constructor\n",
      "W0817 16:08:30.292330  8036 deprecation_wrapper.py:119] From c:\\users\\aditya\\appdata\\local\\programs\\python\\python37\\lib\\site-packages\\tflearn\\optimizers.py:238: The name tf.train.AdamOptimizer is deprecated. Please use tf.compat.v1.train.AdamOptimizer instead.\n",
      "\n",
      "W0817 16:08:30.462964  8036 deprecation.py:506] From c:\\users\\aditya\\appdata\\local\\programs\\python\\python37\\lib\\site-packages\\tflearn\\objectives.py:66: calling reduce_sum_v1 (from tensorflow.python.ops.math_ops) with keep_dims is deprecated and will be removed in a future version.\n",
      "Instructions for updating:\n",
      "keep_dims is deprecated, use keepdims instead\n"
     ]
    }
   ],
   "source": [
    "# build neural network\n",
    "net = tflearn.input_data(shape=[None, len(train_x[0])])\n",
    "net = tflearn.fully_connected(net, 8)\n",
    "net = tflearn.fully_connected(net, 8)\n",
    "net = tflearn.fully_connected(net, len(test_x[0]), activation='softmax')\n",
    "net = tflearn.regression(net)"
   ]
  },
  {
   "cell_type": "code",
   "execution_count": 23,
   "metadata": {},
   "outputs": [
    {
     "name": "stdout",
     "output_type": "stream",
     "text": [
      "Training Step: 3849  | total loss: \u001b[1m\u001b[32m0.70686\u001b[0m\u001b[0m | time: 0.009s\n",
      "\u001b[2K\r",
      "| Adam | epoch: 963 | loss: 0.70686 - acc: 0.9043 -- iter: 08/28\n"
     ]
    }
   ],
   "source": [
    "# define model, setup tensorboard\n",
    "model = tflearn.DNN(net, tensorboard_dir='tflearn_logs')\n",
    "# train the model with gradient descent algorithm\n",
    "model.fit(train_x, test_x, n_epoch=1000, batch_size=8, show_metric=True)\n",
    "model.save('model.tflearn')"
   ]
  },
  {
   "cell_type": "code",
   "execution_count": 32,
   "metadata": {},
   "outputs": [],
   "source": [
    "# save all the data structures\n",
    "import pickle\n",
    "pickle.dump( {'words':words, 'classes':classes, 'train_x':train_x, 'test_x':test_x}, open( \"training_data\", \"wb\" ) )"
   ]
  },
  {
   "cell_type": "code",
   "execution_count": 33,
   "metadata": {},
   "outputs": [],
   "source": [
    "# restore all the data structures\n",
    "data = pickle.load( open(\"training_data\", \"rb\"))\n",
    "words = data['words']\n",
    "classes = data['classes']\n",
    "train_x = data['train_x']\n",
    "test_x = data['test_x']"
   ]
  },
  {
   "cell_type": "code",
   "execution_count": 34,
   "metadata": {},
   "outputs": [],
   "source": [
    "with open('intents.json') as json_data:\n",
    "    intents = json.load(json_data)"
   ]
  },
  {
   "cell_type": "code",
   "execution_count": 35,
   "metadata": {},
   "outputs": [],
   "source": [
    "# load the saved model\n",
    "model.load('./model.tflearn')"
   ]
  },
  {
   "cell_type": "code",
   "execution_count": 38,
   "metadata": {},
   "outputs": [],
   "source": [
    "def clean_up_sentence(sentence):\n",
    "    # tokenize the sentences\n",
    "    token_words = nltk.word_tokenize(sentence)\n",
    "    # stem each word present as tokens\n",
    "    token_words = [stemmer.stem(word.lower()) for word in token_words]\n",
    "    return token_words"
   ]
  },
  {
   "cell_type": "code",
   "execution_count": 44,
   "metadata": {},
   "outputs": [],
   "source": [
    "# generate 'bag of words' array containg 0 or 1 for each word in the bag that exists in the sentence\n",
    "def bow(sentence, words, show_details=False):\n",
    "    # tokenize the sentences\n",
    "    token_words = clean_up_sentence(sentence)\n",
    "    # generate bag of words\n",
    "    bag = [0]*len(words)  \n",
    "    for s in token_words:\n",
    "        for i,w in enumerate(words):\n",
    "            if w == s: \n",
    "                bag[i] = 1\n",
    "                if show_details:\n",
    "                    print (\"Found in bag: %s\" % w)\n",
    "\n",
    "    return(np.array(bag))"
   ]
  },
  {
   "cell_type": "code",
   "execution_count": 48,
   "metadata": {},
   "outputs": [
    {
     "name": "stdout",
     "output_type": "stream",
     "text": [
      "[0 0 0 0 0 0 0 0 0 0 1 0 0 0 0 0 0 0 0 0 0 0 1 0 1 0 0 1 0 0 0 0 0 0 0 0 0\n",
      " 1 0 0 0 0 1 0 0 0 1 0]\n",
      "['goodbye', 'greeting', 'hours', 'location', 'opentoday', 'payments', 'tests', 'thanks', 'today']\n"
     ]
    }
   ],
   "source": [
    "s = bow(\"what is the location of your clinic?\", words)\n",
    "print(s)\n",
    "print(classes)"
   ]
  },
  {
   "cell_type": "code",
   "execution_count": null,
   "metadata": {},
   "outputs": [],
   "source": []
  }
 ],
 "metadata": {
  "kernelspec": {
   "display_name": "Python 3",
   "language": "python",
   "name": "python3"
  },
  "language_info": {
   "codemirror_mode": {
    "name": "ipython",
    "version": 3
   },
   "file_extension": ".py",
   "mimetype": "text/x-python",
   "name": "python",
   "nbconvert_exporter": "python",
   "pygments_lexer": "ipython3",
   "version": "3.7.3"
  }
 },
 "nbformat": 4,
 "nbformat_minor": 2
}
