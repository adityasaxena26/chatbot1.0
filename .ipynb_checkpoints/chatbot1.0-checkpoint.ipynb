{
 "cells": [
  {
   "cell_type": "code",
   "execution_count": 1,
   "metadata": {},
   "outputs": [
    {
     "name": "stderr",
     "output_type": "stream",
     "text": [
      "[nltk_data] Downloading package punkt to\n",
      "[nltk_data]     C:\\Users\\ADITYA\\AppData\\Roaming\\nltk_data...\n",
      "[nltk_data]   Package punkt is already up-to-date!\n",
      "WARNING: Logging before flag parsing goes to stderr.\n",
      "W0822 17:45:24.175091  7844 deprecation_wrapper.py:119] From c:\\users\\aditya\\appdata\\local\\programs\\python\\python37\\lib\\site-packages\\tflearn\\helpers\\summarizer.py:9: The name tf.summary.merge is deprecated. Please use tf.compat.v1.summary.merge instead.\n",
      "\n",
      "W0822 17:45:24.175091  7844 deprecation_wrapper.py:119] From c:\\users\\aditya\\appdata\\local\\programs\\python\\python37\\lib\\site-packages\\tflearn\\helpers\\trainer.py:25: The name tf.summary.FileWriter is deprecated. Please use tf.compat.v1.summary.FileWriter instead.\n",
      "\n"
     ]
    },
    {
     "name": "stdout",
     "output_type": "stream",
     "text": [
      "curses is not supported on this machine (please install/reinstall curses for an optimal experience)\n"
     ]
    },
    {
     "name": "stderr",
     "output_type": "stream",
     "text": [
      "W0822 17:45:24.362297  7844 deprecation_wrapper.py:119] From c:\\users\\aditya\\appdata\\local\\programs\\python\\python37\\lib\\site-packages\\tflearn\\collections.py:13: The name tf.GraphKeys is deprecated. Please use tf.compat.v1.GraphKeys instead.\n",
      "\n",
      "W0822 17:45:24.487094  7844 deprecation_wrapper.py:119] From c:\\users\\aditya\\appdata\\local\\programs\\python\\python37\\lib\\site-packages\\tflearn\\config.py:123: The name tf.get_collection is deprecated. Please use tf.compat.v1.get_collection instead.\n",
      "\n",
      "W0822 17:45:24.909761  7844 deprecation_wrapper.py:119] From c:\\users\\aditya\\appdata\\local\\programs\\python\\python37\\lib\\site-packages\\tflearn\\config.py:129: The name tf.add_to_collection is deprecated. Please use tf.compat.v1.add_to_collection instead.\n",
      "\n",
      "W0822 17:45:24.909761  7844 deprecation_wrapper.py:119] From c:\\users\\aditya\\appdata\\local\\programs\\python\\python37\\lib\\site-packages\\tflearn\\config.py:131: The name tf.assign is deprecated. Please use tf.compat.v1.assign instead.\n",
      "\n"
     ]
    }
   ],
   "source": [
    "# libraries for nlp\n",
    "import nltk\n",
    "nltk.download('punkt')\n",
    "from nltk.stem.lancaster import LancasterStemmer\n",
    "stemmer = LancasterStemmer()\n",
    "\n",
    "# libraries required for Tensorflow processing\n",
    "import tensorflow as tf\n",
    "import tflearn\n",
    "import numpy as np\n",
    "import json\n",
    "import random"
   ]
  },
  {
   "cell_type": "code",
   "execution_count": 2,
   "metadata": {},
   "outputs": [
    {
     "name": "stdout",
     "output_type": "stream",
     "text": [
      "1.14.0\n"
     ]
    }
   ],
   "source": [
    "print(tf.__version__)"
   ]
  },
  {
   "cell_type": "code",
   "execution_count": 7,
   "metadata": {},
   "outputs": [
    {
     "data": {
      "text/plain": [
       "{'intents': [{'tag': 'greeting',\n",
       "   'patterns': ['Hi', 'How are you', 'Hello', 'Is anyone there?', 'Good day'],\n",
       "   'responses': ['Hi there! Welcome to The Panacea Hospital. How can I help you?',\n",
       "    'Hello! Welcome to The Panacea Hospital. How can I help you?'],\n",
       "   'context_set': ''},\n",
       "  {'tag': 'goodbye',\n",
       "   'patterns': ['Goodbye', 'Bye', 'See you later'],\n",
       "   'responses': ['Have a nice day',\n",
       "    'Thanks for visiting us',\n",
       "    'Bye! Have a good day.']},\n",
       "  {'tag': 'thanks',\n",
       "   'patterns': ['Thank you', 'Thanks', \"That's helpful\"],\n",
       "   'responses': ['Welcome!', 'My pleasure', 'Happy to help!', 'Any time!']},\n",
       "  {'tag': 'hours',\n",
       "   'patterns': ['When are you open?',\n",
       "    'What hours are you open?',\n",
       "    'What are your hours?'],\n",
       "   'responses': ['Our hours are 24/7',\n",
       "    'We are open 24/7',\n",
       "    \"We're open 24 hrs every day\"]},\n",
       "  {'tag': 'location',\n",
       "   'patterns': ['Where are you located?',\n",
       "    'What is your address?',\n",
       "    'What is the location of your hospital?'],\n",
       "   'responses': ['Our address is S P Road, Kanpur',\n",
       "    'We are located at S P Road, Kanpur']},\n",
       "  {'tag': 'payments',\n",
       "   'patterns': ['Are you cash only?',\n",
       "    'Do you take credit cards?',\n",
       "    'Do you accept Mastercard?',\n",
       "    'Do you take payments through mobile wallets'],\n",
       "   'responses': ['We accept VISA, Mastercard and AMEX',\n",
       "    'We accept most major credit cards',\n",
       "    'We also accept mobile wallets payments on GooglePay & Paytm']},\n",
       "  {'tag': 'opentoday',\n",
       "   'patterns': ['Are you open today?',\n",
       "    'When do you open today?',\n",
       "    'What are your hours today?'],\n",
       "   'responses': ['Our hours are 24/7',\n",
       "    'Our hospital is open 24 hours',\n",
       "    \"We're open every day night for 24 hrs\"]},\n",
       "  {'tag': 'tests',\n",
       "   'patterns': ['What are the tests done?',\n",
       "    'Which diagnostic tests are available at the clinic?',\n",
       "    'What are services available?'],\n",
       "   'responses': ['We have multiple tests available at our clinic.',\n",
       "    'We provide diagnostic tests like MRI scan, CT scan, ECG, etc.',\n",
       "    ' We provide normal doctors consultation, surgeries and operations, trauma center, emergency services, etc.'],\n",
       "   'context_set': 'services'},\n",
       "  {'tag': 'consultation',\n",
       "   'patterns': ['When are the doctors available for consultation today?',\n",
       "    \"What is the timing for doctor's apppointment?\"],\n",
       "   'responses': ['Doctors are available from 9am to 11:30am in the morning and 5pm to 8pm during evening',\n",
       "    'You can book your appointments during 9am to 11:30am in the morning and 5pm to 8pm in the evening'],\n",
       "   'context_set': 'appointment'},\n",
       "  {'tag': 'today',\n",
       "   'patterns': ['today'],\n",
       "   'responses': ['For appointment today please call 0512-2555999',\n",
       "    'For same day appointment please call 0512-2555999'],\n",
       "   'context_filter': 'appointment'},\n",
       "  {'tag': 'emergency',\n",
       "   'patterns': ['How many doctors are available for emergency services?',\n",
       "    'What is the Emergency care phone number?'],\n",
       "   'responses': ['2 doctors from each depatment are available 24/7 in the Emergency Care',\n",
       "    'For Emergency Care, contact 0512-2555666'],\n",
       "   'context_filter': 'services'}]}"
      ]
     },
     "execution_count": 7,
     "metadata": {},
     "output_type": "execute_result"
    }
   ],
   "source": [
    "with open('intents.json') as json_data:\n",
    "    intents = json.load(json_data)\n",
    "intents"
   ]
  },
  {
   "cell_type": "code",
   "execution_count": 8,
   "metadata": {},
   "outputs": [
    {
     "data": {
      "text/plain": [
       "dict"
      ]
     },
     "execution_count": 8,
     "metadata": {},
     "output_type": "execute_result"
    }
   ],
   "source": [
    "type(intents)"
   ]
  },
  {
   "cell_type": "code",
   "execution_count": 9,
   "metadata": {},
   "outputs": [
    {
     "data": {
      "text/plain": [
       "list"
      ]
     },
     "execution_count": 9,
     "metadata": {},
     "output_type": "execute_result"
    }
   ],
   "source": [
    "type(intents['intents'])"
   ]
  },
  {
   "cell_type": "code",
   "execution_count": 10,
   "metadata": {},
   "outputs": [],
   "source": [
    "words = []\n",
    "classes = []\n",
    "documents = []\n",
    "ignore_words = ['?']\n",
    "# loop through each sentence present in 'patterns' each element of 'intents' list \n",
    "for intent in intents['intents']:\n",
    "    # loop through each element of every 'patterns' list present inside the 'intents' list\n",
    "    for pattern in intent['patterns']:\n",
    "        # create tokens for each word in every element of the list \n",
    "        w = nltk.word_tokenize(pattern)\n",
    "        # add to the words list\n",
    "        words.extend(w) # extend list by appending elements from the iterable i.e. list(w)\n",
    "        documents.append((w, intent['tag'])) # add to the list the tuple containing list of tokens and the corresponding tag\n",
    "        # add the tag to the classes list\n",
    "        if intent['tag'] not in classes:\n",
    "            classes.append(intent['tag'])"
   ]
  },
  {
   "cell_type": "code",
   "execution_count": 11,
   "metadata": {},
   "outputs": [
    {
     "data": {
      "text/plain": [
       "['Hi',\n",
       " 'How',\n",
       " 'are',\n",
       " 'you',\n",
       " 'Hello',\n",
       " 'Is',\n",
       " 'anyone',\n",
       " 'there',\n",
       " '?',\n",
       " 'Good',\n",
       " 'day',\n",
       " 'Goodbye',\n",
       " 'Bye',\n",
       " 'See',\n",
       " 'you',\n",
       " 'later',\n",
       " 'Thank',\n",
       " 'you',\n",
       " 'Thanks',\n",
       " 'That',\n",
       " \"'s\",\n",
       " 'helpful',\n",
       " 'When',\n",
       " 'are',\n",
       " 'you',\n",
       " 'open',\n",
       " '?',\n",
       " 'What',\n",
       " 'hours',\n",
       " 'are',\n",
       " 'you',\n",
       " 'open',\n",
       " '?',\n",
       " 'What',\n",
       " 'are',\n",
       " 'your',\n",
       " 'hours',\n",
       " '?',\n",
       " 'Where',\n",
       " 'are',\n",
       " 'you',\n",
       " 'located',\n",
       " '?',\n",
       " 'What',\n",
       " 'is',\n",
       " 'your',\n",
       " 'address',\n",
       " '?',\n",
       " 'What',\n",
       " 'is',\n",
       " 'the',\n",
       " 'location',\n",
       " 'of',\n",
       " 'your',\n",
       " 'hospital',\n",
       " '?',\n",
       " 'Are',\n",
       " 'you',\n",
       " 'cash',\n",
       " 'only',\n",
       " '?',\n",
       " 'Do',\n",
       " 'you',\n",
       " 'take',\n",
       " 'credit',\n",
       " 'cards',\n",
       " '?',\n",
       " 'Do',\n",
       " 'you',\n",
       " 'accept',\n",
       " 'Mastercard',\n",
       " '?',\n",
       " 'Do',\n",
       " 'you',\n",
       " 'take',\n",
       " 'payments',\n",
       " 'through',\n",
       " 'mobile',\n",
       " 'wallets',\n",
       " 'Are',\n",
       " 'you',\n",
       " 'open',\n",
       " 'today',\n",
       " '?',\n",
       " 'When',\n",
       " 'do',\n",
       " 'you',\n",
       " 'open',\n",
       " 'today',\n",
       " '?',\n",
       " 'What',\n",
       " 'are',\n",
       " 'your',\n",
       " 'hours',\n",
       " 'today',\n",
       " '?',\n",
       " 'What',\n",
       " 'are',\n",
       " 'the',\n",
       " 'tests',\n",
       " 'done',\n",
       " '?',\n",
       " 'Which',\n",
       " 'diagnostic',\n",
       " 'tests',\n",
       " 'are',\n",
       " 'available',\n",
       " 'at',\n",
       " 'the',\n",
       " 'clinic',\n",
       " '?',\n",
       " 'What',\n",
       " 'are',\n",
       " 'services',\n",
       " 'available',\n",
       " '?',\n",
       " 'When',\n",
       " 'are',\n",
       " 'the',\n",
       " 'doctors',\n",
       " 'available',\n",
       " 'for',\n",
       " 'consultation',\n",
       " 'today',\n",
       " '?',\n",
       " 'What',\n",
       " 'is',\n",
       " 'the',\n",
       " 'timing',\n",
       " 'for',\n",
       " 'doctor',\n",
       " \"'s\",\n",
       " 'apppointment',\n",
       " '?',\n",
       " 'today',\n",
       " 'How',\n",
       " 'many',\n",
       " 'doctors',\n",
       " 'are',\n",
       " 'available',\n",
       " 'for',\n",
       " 'emergency',\n",
       " 'services',\n",
       " '?',\n",
       " 'What',\n",
       " 'is',\n",
       " 'the',\n",
       " 'Emergency',\n",
       " 'care',\n",
       " 'phone',\n",
       " 'number',\n",
       " '?']"
      ]
     },
     "execution_count": 11,
     "metadata": {},
     "output_type": "execute_result"
    }
   ],
   "source": [
    "words"
   ]
  },
  {
   "cell_type": "code",
   "execution_count": 12,
   "metadata": {},
   "outputs": [
    {
     "data": {
      "text/plain": [
       "['greeting',\n",
       " 'goodbye',\n",
       " 'thanks',\n",
       " 'hours',\n",
       " 'location',\n",
       " 'payments',\n",
       " 'opentoday',\n",
       " 'tests',\n",
       " 'consultation',\n",
       " 'today',\n",
       " 'emergency']"
      ]
     },
     "execution_count": 12,
     "metadata": {},
     "output_type": "execute_result"
    }
   ],
   "source": [
    "classes"
   ]
  },
  {
   "cell_type": "code",
   "execution_count": 13,
   "metadata": {},
   "outputs": [
    {
     "data": {
      "text/plain": [
       "[(['Hi'], 'greeting'),\n",
       " (['How', 'are', 'you'], 'greeting'),\n",
       " (['Hello'], 'greeting'),\n",
       " (['Is', 'anyone', 'there', '?'], 'greeting'),\n",
       " (['Good', 'day'], 'greeting'),\n",
       " (['Goodbye'], 'goodbye'),\n",
       " (['Bye'], 'goodbye'),\n",
       " (['See', 'you', 'later'], 'goodbye'),\n",
       " (['Thank', 'you'], 'thanks'),\n",
       " (['Thanks'], 'thanks'),\n",
       " (['That', \"'s\", 'helpful'], 'thanks'),\n",
       " (['When', 'are', 'you', 'open', '?'], 'hours'),\n",
       " (['What', 'hours', 'are', 'you', 'open', '?'], 'hours'),\n",
       " (['What', 'are', 'your', 'hours', '?'], 'hours'),\n",
       " (['Where', 'are', 'you', 'located', '?'], 'location'),\n",
       " (['What', 'is', 'your', 'address', '?'], 'location'),\n",
       " (['What', 'is', 'the', 'location', 'of', 'your', 'hospital', '?'],\n",
       "  'location'),\n",
       " (['Are', 'you', 'cash', 'only', '?'], 'payments'),\n",
       " (['Do', 'you', 'take', 'credit', 'cards', '?'], 'payments'),\n",
       " (['Do', 'you', 'accept', 'Mastercard', '?'], 'payments'),\n",
       " (['Do', 'you', 'take', 'payments', 'through', 'mobile', 'wallets'],\n",
       "  'payments'),\n",
       " (['Are', 'you', 'open', 'today', '?'], 'opentoday'),\n",
       " (['When', 'do', 'you', 'open', 'today', '?'], 'opentoday'),\n",
       " (['What', 'are', 'your', 'hours', 'today', '?'], 'opentoday'),\n",
       " (['What', 'are', 'the', 'tests', 'done', '?'], 'tests'),\n",
       " (['Which',\n",
       "   'diagnostic',\n",
       "   'tests',\n",
       "   'are',\n",
       "   'available',\n",
       "   'at',\n",
       "   'the',\n",
       "   'clinic',\n",
       "   '?'],\n",
       "  'tests'),\n",
       " (['What', 'are', 'services', 'available', '?'], 'tests'),\n",
       " (['When',\n",
       "   'are',\n",
       "   'the',\n",
       "   'doctors',\n",
       "   'available',\n",
       "   'for',\n",
       "   'consultation',\n",
       "   'today',\n",
       "   '?'],\n",
       "  'consultation'),\n",
       " (['What', 'is', 'the', 'timing', 'for', 'doctor', \"'s\", 'apppointment', '?'],\n",
       "  'consultation'),\n",
       " (['today'], 'today'),\n",
       " (['How',\n",
       "   'many',\n",
       "   'doctors',\n",
       "   'are',\n",
       "   'available',\n",
       "   'for',\n",
       "   'emergency',\n",
       "   'services',\n",
       "   '?'],\n",
       "  'emergency'),\n",
       " (['What', 'is', 'the', 'Emergency', 'care', 'phone', 'number', '?'],\n",
       "  'emergency')]"
      ]
     },
     "execution_count": 13,
     "metadata": {},
     "output_type": "execute_result"
    }
   ],
   "source": [
    "documents"
   ]
  },
  {
   "cell_type": "code",
   "execution_count": 14,
   "metadata": {},
   "outputs": [
    {
     "name": "stdout",
     "output_type": "stream",
     "text": [
      "\n",
      "Length of 'documents' list:  32\n",
      "\n",
      "Length of 'classes' list:  11\n",
      "\n",
      "Length of unique stemmed words list:  60 \n",
      "Stemmed unique words:\n",
      " [\"'s\", 'acceiv', 'address', 'anyon', 'apppoint', 'ar', 'at', 'avail', 'bye', 'car', 'card', 'cash', 'clin', 'consult', 'credit', 'day', 'diagnost', 'do', 'doct', 'don', 'emerg', 'for', 'good', 'goodby', 'hello', 'help', 'hi', 'hospit', 'hour', 'how', 'is', 'lat', 'loc', 'many', 'mastercard', 'mobl', 'numb', 'of', 'on', 'op', 'pay', 'phon', 'see', 'serv', 'tak', 'test', 'thank', 'that', 'the', 'ther', 'through', 'tim', 'today', 'wallet', 'what', 'when', 'wher', 'which', 'yo', 'you']\n"
     ]
    }
   ],
   "source": [
    "# perform stemming on every word and remove duplicate words using set\n",
    "words = [stemmer.stem(w.lower()) for w in words if w not in ignore_words]\n",
    "words = sorted(list(set(words)))\n",
    "\n",
    "# remove duplicate classes using set\n",
    "classes = sorted(list(set(classes)))\n",
    "\n",
    "print (\"\\nLength of 'documents' list: \", len(documents))\n",
    "print (\"\\nLength of 'classes' list: \", len(classes))\n",
    "print (\"\\nLength of unique stemmed words list: \", len(words), \"\\nStemmed unique words:\\n\", words)"
   ]
  },
  {
   "cell_type": "code",
   "execution_count": 15,
   "metadata": {},
   "outputs": [],
   "source": [
    "# create a list to store the training data\n",
    "training = []\n",
    "output = []\n",
    "# create an empty array for output of length equal to the number of unique classes/tags \n",
    "output_empty = [0] * len(classes)\n",
    "\n",
    "# create bag of words for each sentence in each 'patterns' list which has been stored in 'documents' list \n",
    "# as a tuple of list of words in the sentence and class of the sentence.  \n",
    "# Create training list by appending list of 'bag of words' list and output list.  \n",
    "# 'classes' is a list of 'tags'. In 'output_row' list, '1' is present only at the index corresponding to index in 'classes'\n",
    "# of a tag to which bag of words belongs. The rest elements are '0' in 'output_row'   \n",
    "for doc in documents:\n",
    "    # initialize bag of words\n",
    "    bag = []\n",
    "    # list of tokenized words for the pattern\n",
    "    pattern_words = doc[0]\n",
    "    # stem each word\n",
    "    pattern_words = [stemmer.stem(word.lower()) for word in pattern_words]\n",
    "    # create the bag of words list and append it to training list along with the current tag as a  \n",
    "    # For a list 'bag' of the size equal to 'words' list, the words present in 'doc' i.e. each sentence of 'patterns'\n",
    "    # is 1 in bag rest corresponding indexes are 0 if a word in 'words' is not present in the 'pattern_words' list\n",
    "    for w in words:\n",
    "        bag.append(1) if w in pattern_words else bag.append(0)\n",
    "\n",
    "    # output '1' for current tag and '0' for other tags \n",
    "    output_row = list(output_empty)\n",
    "    output_row[classes.index(doc[1])] = 1\n",
    "\n",
    "    training.append([bag, output_row])\n",
    "\n",
    "# shuffle the features and turn it into a numpy array\n",
    "random.shuffle(training)\n",
    "training = np.array(training)\n",
    "\n",
    "# create train and test data\n",
    "train_x = list(training[:,0])\n",
    "train_y = list(training[:,1])"
   ]
  },
  {
   "cell_type": "code",
   "execution_count": 16,
   "metadata": {},
   "outputs": [],
   "source": [
    "# reset underlying graph data\n",
    "tf.reset_default_graph()"
   ]
  },
  {
   "cell_type": "code",
   "execution_count": 17,
   "metadata": {},
   "outputs": [
    {
     "name": "stderr",
     "output_type": "stream",
     "text": [
      "W0822 18:37:26.796940  7844 deprecation_wrapper.py:119] From c:\\users\\aditya\\appdata\\local\\programs\\python\\python37\\lib\\site-packages\\tflearn\\layers\\core.py:81: The name tf.placeholder is deprecated. Please use tf.compat.v1.placeholder instead.\n",
      "\n",
      "W0822 18:37:26.923710  7844 deprecation.py:506] From c:\\users\\aditya\\appdata\\local\\programs\\python\\python37\\lib\\site-packages\\tflearn\\initializations.py:174: calling TruncatedNormal.__init__ (from tensorflow.python.ops.init_ops) with dtype is deprecated and will be removed in a future version.\n",
      "Instructions for updating:\n",
      "Call initializer instance with the dtype argument instead of passing it to the constructor\n",
      "W0822 18:37:27.237746  7844 deprecation_wrapper.py:119] From c:\\users\\aditya\\appdata\\local\\programs\\python\\python37\\lib\\site-packages\\tflearn\\optimizers.py:238: The name tf.train.AdamOptimizer is deprecated. Please use tf.compat.v1.train.AdamOptimizer instead.\n",
      "\n",
      "W0822 18:37:27.300146  7844 deprecation.py:506] From c:\\users\\aditya\\appdata\\local\\programs\\python\\python37\\lib\\site-packages\\tflearn\\objectives.py:66: calling reduce_sum_v1 (from tensorflow.python.ops.math_ops) with keep_dims is deprecated and will be removed in a future version.\n",
      "Instructions for updating:\n",
      "keep_dims is deprecated, use keepdims instead\n"
     ]
    }
   ],
   "source": [
    "# build neural network\n",
    "net = tflearn.input_data(shape=[None, len(train_x[0])])\n",
    "net = tflearn.fully_connected(net, 8)\n",
    "net = tflearn.fully_connected(net, 8)\n",
    "net = tflearn.fully_connected(net, len(train_y[0]), activation='softmax')\n",
    "net = tflearn.regression(net)"
   ]
  },
  {
   "cell_type": "code",
   "execution_count": 18,
   "metadata": {
    "scrolled": true
   },
   "outputs": [
    {
     "name": "stdout",
     "output_type": "stream",
     "text": [
      "Training Step: 3999  | total loss: \u001b[1m\u001b[32m0.78843\u001b[0m\u001b[0m | time: 0.016s\n",
      "| Adam | epoch: 1000 | loss: 0.78843 - acc: 0.9139 -- iter: 24/32\n",
      "Training Step: 4000  | total loss: \u001b[1m\u001b[32m0.72064\u001b[0m\u001b[0m | time: 0.016s\n",
      "| Adam | epoch: 1000 | loss: 0.72064 - acc: 0.9225 -- iter: 32/32\n",
      "--\n"
     ]
    }
   ],
   "source": [
    "# define model, setup tensorboard\n",
    "model = tflearn.DNN(net, tensorboard_dir='tflearn_logs')\n",
    "# train the model with gradient descent algorithm\n",
    "model.fit(train_x, train_y, n_epoch=1000, batch_size=8, show_metric=True)\n",
    "model.save('model.tflearn')"
   ]
  },
  {
   "cell_type": "code",
   "execution_count": 19,
   "metadata": {},
   "outputs": [],
   "source": [
    "# save all the data structures\n",
    "import pickle\n",
    "pickle.dump( {'words': words, 'classes': classes, 'train_x': train_x, 'train_y': train_y}, open( \"training_data\", \"wb\" ) )"
   ]
  },
  {
   "cell_type": "code",
   "execution_count": 20,
   "metadata": {},
   "outputs": [],
   "source": [
    "# restore all the data structures\n",
    "data = pickle.load( open(\"training_data\", \"rb\"))\n",
    "words = data['words']\n",
    "classes = data['classes']\n",
    "train_x = data['train_x']\n",
    "train_y = data['train_y']"
   ]
  },
  {
   "cell_type": "code",
   "execution_count": 21,
   "metadata": {},
   "outputs": [],
   "source": [
    "with open('intents.json') as json_data:\n",
    "    intents = json.load(json_data)"
   ]
  },
  {
   "cell_type": "code",
   "execution_count": 22,
   "metadata": {},
   "outputs": [
    {
     "name": "stderr",
     "output_type": "stream",
     "text": [
      "W0822 18:38:05.529781  7844 deprecation.py:323] From c:\\users\\aditya\\appdata\\local\\programs\\python\\python37\\lib\\site-packages\\tensorflow\\python\\training\\saver.py:1276: checkpoint_exists (from tensorflow.python.training.checkpoint_management) is deprecated and will be removed in a future version.\n",
      "Instructions for updating:\n",
      "Use standard file APIs to check for files with this prefix.\n"
     ]
    }
   ],
   "source": [
    "# load the saved model\n",
    "model.load('./model.tflearn')"
   ]
  },
  {
   "cell_type": "code",
   "execution_count": 23,
   "metadata": {},
   "outputs": [],
   "source": [
    "def clean_up_sentence(sentence):\n",
    "    # tokenize the sentences\n",
    "    token_words = nltk.word_tokenize(sentence)\n",
    "    # stem each word present as tokens\n",
    "    token_words = [stemmer.stem(word.lower()) for word in token_words]\n",
    "    return token_words"
   ]
  },
  {
   "cell_type": "code",
   "execution_count": 24,
   "metadata": {},
   "outputs": [],
   "source": [
    "# generate 'bag of words' array containg 0 or 1 for each word in the bag that exists in the sentence\n",
    "def bow(sentence, words, show_details=False):\n",
    "    # tokenize the sentences\n",
    "    token_words = clean_up_sentence(sentence)\n",
    "    # generate bag of words\n",
    "    bag = [0]*len(words)  \n",
    "    for s in token_words:\n",
    "        for i,w in enumerate(words):\n",
    "            if w == s: \n",
    "                bag[i] = 1\n",
    "                if show_details:\n",
    "                    print (\"Found in bag: %s\" % w)\n",
    "\n",
    "    return(np.array(bag))"
   ]
  },
  {
   "cell_type": "code",
   "execution_count": 25,
   "metadata": {},
   "outputs": [
    {
     "name": "stdout",
     "output_type": "stream",
     "text": [
      "[0 0 0 0 0 0 0 0 0 0 0 0 1 0 0 0 0 0 0 0 0 0 0 0 0 0 0 0 0 0 1 0 1 0 0 0 0\n",
      " 1 0 0 0 0 0 0 0 0 0 0 1 0 0 0 0 0 1 0 0 0 1 0]\n"
     ]
    }
   ],
   "source": [
    "s = bow(\"what is the location of your clinic?\", words)\n",
    "print(s)"
   ]
  },
  {
   "cell_type": "code",
   "execution_count": 26,
   "metadata": {},
   "outputs": [],
   "source": [
    "prob_threshold = 0.2 # filter out any prediction having the probability less than 0.3\n",
    "def classify(sentence):\n",
    "    # generate probabilities using model.predict\n",
    "    probs = model.predict([bow(sentence, words)])[0]\n",
    "    # store the predictions which are above the threshold and filter out the rest\n",
    "    probs = [[i,p] for i, p in enumerate(probs) if p > prob_threshold]\n",
    "    # sort the probabilities in descending order\n",
    "    probs.sort(key = lambda x: x[1], reverse = True)\n",
    "    result = []\n",
    "    for p in probs:\n",
    "        result.append((classes[p[0]], p[1])) #  append the list with a tuple containing tag's index and its probability\n",
    "    # return the tuple\n",
    "    return result\n"
   ]
  },
  {
   "cell_type": "code",
   "execution_count": 27,
   "metadata": {},
   "outputs": [],
   "source": [
    "# create chatbot resonse to queries\n",
    "def response(sentence, userID = '789', show_details = False):\n",
    "    results = classify(sentence) # classify returns tuples having classes/tags and their corresponding probabilities \n",
    "                                 # sorted in descending order\n",
    "    # find the match of the intent tag with the highest probability\n",
    "    if results:\n",
    "        # run the loop untill there are matches to process\n",
    "        while results:\n",
    "            for intent in intents['intents']:\n",
    "                # find the tag matching with the first result\n",
    "                if intent['tag'] == results[0][0]:\n",
    "                    if 'context_set' in intent:\n",
    "                        context = {}\n",
    "                        if show_details: print ('Context:', intent['context_set'])\n",
    "                        context[userID] = intent['context_set']\n",
    "                    # check whether the intent is contextual and applies to the user's conversation\n",
    "                    if not 'context_filter' in intent or \\\n",
    "                        (userID in context and 'context_filter' in intent and intent['context_filter'] == context[userID]):\n",
    "                        if show_details: print ('Tag:', intent['tag'])\n",
    "                    # return a random response from the corresponding 'responses' list of the 'tag'\n",
    "                    return print(random.choice(intent['responses']))\n",
    "            # pop the tuple to match with the next tuple\n",
    "            results.pop(0)"
   ]
  },
  {
   "cell_type": "code",
   "execution_count": 28,
   "metadata": {},
   "outputs": [
    {
     "name": "stdout",
     "output_type": "stream",
     "text": [
      "Hi there! Welcome to The Panacea Hospital. How can I help you?\n"
     ]
    }
   ],
   "source": [
    "response('Hi!')"
   ]
  },
  {
   "cell_type": "code",
   "execution_count": 32,
   "metadata": {},
   "outputs": [
    {
     "name": "stdout",
     "output_type": "stream",
     "text": [
      "Hello! Welcome to The Panacea Hospital. How can I help you?\n"
     ]
    }
   ],
   "source": [
    "response('Hello')"
   ]
  },
  {
   "cell_type": "code",
   "execution_count": 33,
   "metadata": {},
   "outputs": [
    {
     "data": {
      "text/plain": [
       "[('location', 0.83716506)]"
      ]
     },
     "execution_count": 33,
     "metadata": {},
     "output_type": "execute_result"
    }
   ],
   "source": [
    "classify('what is your address?')"
   ]
  },
  {
   "cell_type": "code",
   "execution_count": 34,
   "metadata": {},
   "outputs": [
    {
     "name": "stdout",
     "output_type": "stream",
     "text": [
      "Our hours are 24/7\n"
     ]
    }
   ],
   "source": [
    "response(\"Are you open today?\")"
   ]
  },
  {
   "cell_type": "code",
   "execution_count": 35,
   "metadata": {},
   "outputs": [
    {
     "name": "stdout",
     "output_type": "stream",
     "text": [
      "Our hospital is open 24 hours\n"
     ]
    }
   ],
   "source": [
    "response(\"Are you open today?\")"
   ]
  },
  {
   "cell_type": "code",
   "execution_count": 37,
   "metadata": {},
   "outputs": [
    {
     "name": "stdout",
     "output_type": "stream",
     "text": [
      "We accept most major credit cards\n"
     ]
    }
   ],
   "source": [
    "response('Can I pay using credit card')"
   ]
  },
  {
   "cell_type": "code",
   "execution_count": 38,
   "metadata": {},
   "outputs": [
    {
     "name": "stdout",
     "output_type": "stream",
     "text": [
      "Our address is S P Road, Kanpur\n"
     ]
    }
   ],
   "source": [
    "response('What is your address?')"
   ]
  },
  {
   "cell_type": "code",
   "execution_count": 56,
   "metadata": {},
   "outputs": [
    {
     "name": "stdout",
     "output_type": "stream",
     "text": [
      " We provide normal doctors consultation, surgeries and operations, trauma center, emergency services, etc.\n"
     ]
    }
   ],
   "source": [
    "response('What are the services there?')"
   ]
  },
  {
   "cell_type": "code",
   "execution_count": 43,
   "metadata": {},
   "outputs": [
    {
     "ename": "UnboundLocalError",
     "evalue": "local variable 'context' referenced before assignment",
     "output_type": "error",
     "traceback": [
      "\u001b[1;31m---------------------------------------------------------------------------\u001b[0m",
      "\u001b[1;31mUnboundLocalError\u001b[0m                         Traceback (most recent call last)",
      "\u001b[1;32m<ipython-input-43-5f4c52f385e8>\u001b[0m in \u001b[0;36m<module>\u001b[1;34m\u001b[0m\n\u001b[1;32m----> 1\u001b[1;33m \u001b[0mresponse\u001b[0m\u001b[1;33m(\u001b[0m\u001b[1;34m'today'\u001b[0m\u001b[1;33m)\u001b[0m\u001b[1;33m\u001b[0m\u001b[1;33m\u001b[0m\u001b[0m\n\u001b[0m\u001b[0;32m      2\u001b[0m \u001b[0mclassify\u001b[0m\u001b[1;33m(\u001b[0m\u001b[1;34m'today'\u001b[0m\u001b[1;33m)\u001b[0m\u001b[1;33m\u001b[0m\u001b[1;33m\u001b[0m\u001b[0m\n",
      "\u001b[1;32m<ipython-input-27-403cc0c6e257>\u001b[0m in \u001b[0;36mresponse\u001b[1;34m(sentence, userID, show_details)\u001b[0m\n\u001b[0;32m     16\u001b[0m                     \u001b[1;31m# check whether the intent is contextual and applies to the user's conversation\u001b[0m\u001b[1;33m\u001b[0m\u001b[1;33m\u001b[0m\u001b[1;33m\u001b[0m\u001b[0m\n\u001b[0;32m     17\u001b[0m                     \u001b[1;32mif\u001b[0m \u001b[1;32mnot\u001b[0m \u001b[1;34m'context_filter'\u001b[0m \u001b[1;32min\u001b[0m \u001b[0mintent\u001b[0m \u001b[1;32mor\u001b[0m\u001b[0;31m \u001b[0m\u001b[0;31m\\\u001b[0m\u001b[1;33m\u001b[0m\u001b[1;33m\u001b[0m\u001b[0m\n\u001b[1;32m---> 18\u001b[1;33m                         \u001b[1;33m(\u001b[0m\u001b[0muserID\u001b[0m \u001b[1;32min\u001b[0m \u001b[0mcontext\u001b[0m \u001b[1;32mand\u001b[0m \u001b[1;34m'context_filter'\u001b[0m \u001b[1;32min\u001b[0m \u001b[0mintent\u001b[0m \u001b[1;32mand\u001b[0m \u001b[0mintent\u001b[0m\u001b[1;33m[\u001b[0m\u001b[1;34m'context_filter'\u001b[0m\u001b[1;33m]\u001b[0m \u001b[1;33m==\u001b[0m \u001b[0mcontext\u001b[0m\u001b[1;33m[\u001b[0m\u001b[0muserID\u001b[0m\u001b[1;33m]\u001b[0m\u001b[1;33m)\u001b[0m\u001b[1;33m:\u001b[0m\u001b[1;33m\u001b[0m\u001b[1;33m\u001b[0m\u001b[0m\n\u001b[0m\u001b[0;32m     19\u001b[0m                         \u001b[1;32mif\u001b[0m \u001b[0mshow_details\u001b[0m\u001b[1;33m:\u001b[0m \u001b[0mprint\u001b[0m \u001b[1;33m(\u001b[0m\u001b[1;34m'Tag:'\u001b[0m\u001b[1;33m,\u001b[0m \u001b[0mintent\u001b[0m\u001b[1;33m[\u001b[0m\u001b[1;34m'tag'\u001b[0m\u001b[1;33m]\u001b[0m\u001b[1;33m)\u001b[0m\u001b[1;33m\u001b[0m\u001b[1;33m\u001b[0m\u001b[0m\n\u001b[0;32m     20\u001b[0m                     \u001b[1;31m# return a random response from the corresponding 'responses' list of the 'tag'\u001b[0m\u001b[1;33m\u001b[0m\u001b[1;33m\u001b[0m\u001b[1;33m\u001b[0m\u001b[0m\n",
      "\u001b[1;31mUnboundLocalError\u001b[0m: local variable 'context' referenced before assignment"
     ]
    }
   ],
   "source": [
    "response('today')\n",
    "classify('today')"
   ]
  },
  {
   "cell_type": "code",
   "execution_count": 44,
   "metadata": {},
   "outputs": [
    {
     "name": "stdout",
     "output_type": "stream",
     "text": [
      "Context: \n",
      "Tag: greeting\n",
      "Hello! Welcome to The Panacea Hospital. How can I help you?\n"
     ]
    }
   ],
   "source": [
    "# fetch context\n",
    "response(\"Hi there!\", show_details=True)"
   ]
  },
  {
   "cell_type": "code",
   "execution_count": 60,
   "metadata": {},
   "outputs": [
    {
     "name": "stdout",
     "output_type": "stream",
     "text": [
      " We provide normal doctors consultation, surgeries and operations, trauma center, emergency services, etc.\n"
     ]
    }
   ],
   "source": [
    "response('what tests are available?')"
   ]
  },
  {
   "cell_type": "code",
   "execution_count": 57,
   "metadata": {},
   "outputs": [
    {
     "data": {
      "text/plain": [
       "[('greeting', 0.9022053)]"
      ]
     },
     "execution_count": 57,
     "metadata": {},
     "output_type": "execute_result"
    }
   ],
   "source": [
    "classify(\"how are you?\")"
   ]
  },
  {
   "cell_type": "code",
   "execution_count": 59,
   "metadata": {},
   "outputs": [
    {
     "data": {
      "text/plain": [
       "[('today', 0.7218816)]"
      ]
     },
     "execution_count": 59,
     "metadata": {},
     "output_type": "execute_result"
    }
   ],
   "source": [
    "classify('today')"
   ]
  },
  {
   "cell_type": "code",
   "execution_count": 63,
   "metadata": {},
   "outputs": [
    {
     "name": "stdout",
     "output_type": "stream",
     "text": [
      "You can book your appointments during 9am to 11:30am in the morning and 5pm to 8pm in the evening\n"
     ]
    }
   ],
   "source": [
    "response(\"What is the timing for doctor's apppointment?\")"
   ]
  },
  {
   "cell_type": "code",
   "execution_count": 67,
   "metadata": {},
   "outputs": [
    {
     "name": "stdout",
     "output_type": "stream",
     "text": [
      "We provide diagnostic tests like MRI scan, CT scan, ECG, etc.\n"
     ]
    }
   ],
   "source": [
    "response('What are the tests done?')"
   ]
  }
 ],
 "metadata": {
  "kernelspec": {
   "display_name": "Python 3",
   "language": "python",
   "name": "python3"
  },
  "language_info": {
   "codemirror_mode": {
    "name": "ipython",
    "version": 3
   },
   "file_extension": ".py",
   "mimetype": "text/x-python",
   "name": "python",
   "nbconvert_exporter": "python",
   "pygments_lexer": "ipython3",
   "version": "3.7.3"
  }
 },
 "nbformat": 4,
 "nbformat_minor": 2
}
